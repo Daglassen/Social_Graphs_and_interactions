{
 "cells": [
  {
   "cell_type": "markdown",
   "metadata": {},
   "source": [
    "## 2.2 Introduction to NLTK\n",
    "\n",
    "1. Now that you have nltk installed, work through Chapter 1, Sections 1 to 4. The book is set up as a kind of tutorial with lots of examples for you to work through. I recommend you read the text with an open Jupyter Notebook and type out the examples that you see. ***It becomes much more fun if you add a few variations and see what happens***. We tweaked some of these examples in the following exercises and they might very well be due as assignments, so those ones should definitely be in a `notebook`."
   ]
  },
  {
   "cell_type": "markdown",
   "metadata": {},
   "source": [
    "2. Now that you have gone through Chapter 1, let's try some of the nltk functionalities on our own Text!\n",
    "\n",
    "> Setup. We want to start from a clean version of the ZeldaWiki pages of the characters. A version with as little wiki-markup as possible. We needed it earlier to get the links, gender, etc., but now we want a readable version. To do this we need to create 10 new regex patterns and parse the pages ... \n",
    ">\n",
    "> No! Don't worry! We can get a fairly nice version directly from the ZeldaWiki API. Follow the instructions below:\n",
    ">\n",
    "> * read the [csv file](https://github.com/SocialComplexityLab/socialgraphs2021/blob/main/files/ZeldaBotW_nodes_w_attributes_enriched.csv) of the characters with pandas `pd.read_csv()` and assign it to `df_characters`;\n",
    "> * use the same code you have used to query the API before (remember the baseurl is `https://zelda.fandom.com/api.php?`), but change the parameter `content` in `content=\"prop=extracts&exlimit=1&explaintext\"`;\n",
    "> * loop through the `Name` column of df_characters and for each name make a request to the API\n",
    ">     * **Note1** replace white spaces with `_` and use `urllib.parse.quote_plus(NAME_OF_CHARACTER_HERE)` to build your title;\n",
    ">     * **Note2** take care of `Cherry` (remember the title of her page is different).\n",
    "> * after using `json` to load the text, remember to get the value (the clean text we are looking for) from the right key \n",
    ">     * **Note3** the key you are looking for is now `extract` not `*`\n",
    ">\n",
    "> Use this method to retrive a nice copy of all BotW characters's text. Save each character's text in a txt file and collect them all in a new folder!\n",
    "\n",
    "> Finally, we can create our own corpus (see Ch. 2 Sec. 1.9 for more details):\n",
    ">    * create a list of file names `file_list` and order them with the same order in `df_characters`, e.g., Baddek.txt first, Bamboo.txt second etc.\n",
    ">    * use the function `PlaintextCorpusReader` from `nltk.corpus` to create the ZeldaWiki corpus.\n",
    ">    * use the function `nltk.Text()` as follows `nltk.Text(YOUR_CORPUS_HERE.words())`.\n",
    ">\n",
    "> Now you can use this nltk Text object as any other you've seen in the examples of Chapter 1!!"
   ]
  },
  {
   "cell_type": "code",
   "execution_count": null,
   "metadata": {
    "scrolled": false
   },
   "outputs": [],
   "source": [
    "import nltk\n",
    "import pandas as pd\n",
    "nltk.download(\"book\")\n",
    "from nltk.book import *\n",
    "import pandas as pd"
   ]
  },
  {
   "cell_type": "code",
   "execution_count": 5,
   "metadata": {},
   "outputs": [
    {
     "data": {
      "text/html": [
       "<div>\n",
       "<style scoped>\n",
       "    .dataframe tbody tr th:only-of-type {\n",
       "        vertical-align: middle;\n",
       "    }\n",
       "\n",
       "    .dataframe tbody tr th {\n",
       "        vertical-align: top;\n",
       "    }\n",
       "\n",
       "    .dataframe thead th {\n",
       "        text-align: right;\n",
       "    }\n",
       "</style>\n",
       "<table border=\"1\" class=\"dataframe\">\n",
       "  <thead>\n",
       "    <tr style=\"text-align: right;\">\n",
       "      <th></th>\n",
       "      <th>Name</th>\n",
       "      <th>Role</th>\n",
       "      <th>Race</th>\n",
       "      <th>Gender</th>\n",
       "    </tr>\n",
       "  </thead>\n",
       "  <tbody>\n",
       "    <tr>\n",
       "      <th>0</th>\n",
       "      <td>Baddek</td>\n",
       "      <td>Ally</td>\n",
       "      <td>Hylian</td>\n",
       "      <td>Male</td>\n",
       "    </tr>\n",
       "    <tr>\n",
       "      <th>1</th>\n",
       "      <td>Bamboo</td>\n",
       "      <td>Ally</td>\n",
       "      <td>Horse</td>\n",
       "      <td>Unknown</td>\n",
       "    </tr>\n",
       "    <tr>\n",
       "      <th>2</th>\n",
       "      <td>Banji</td>\n",
       "      <td>Ally</td>\n",
       "      <td>Hylian</td>\n",
       "      <td>Female</td>\n",
       "    </tr>\n",
       "    <tr>\n",
       "      <th>3</th>\n",
       "      <td>Baumar</td>\n",
       "      <td>Ally</td>\n",
       "      <td>Hylian</td>\n",
       "      <td>Male</td>\n",
       "    </tr>\n",
       "    <tr>\n",
       "      <th>4</th>\n",
       "      <td>Bayge</td>\n",
       "      <td>Ally</td>\n",
       "      <td>Goron</td>\n",
       "      <td>Male</td>\n",
       "    </tr>\n",
       "  </tbody>\n",
       "</table>\n",
       "</div>"
      ],
      "text/plain": [
       "     Name  Role    Race   Gender\n",
       "0  Baddek  Ally  Hylian     Male\n",
       "1  Bamboo  Ally   Horse  Unknown\n",
       "2   Banji  Ally  Hylian   Female\n",
       "3  Baumar  Ally  Hylian     Male\n",
       "4   Bayge  Ally   Goron     Male"
      ]
     },
     "execution_count": 5,
     "metadata": {},
     "output_type": "execute_result"
    }
   ],
   "source": [
    "#url = 'https://raw.githubusercontent.com/SocialComplexityLab/socialgraphs2021/main/files/ZeldaBotW_nodes_w_attributes_enriched.csv'\n",
    "#df_characters = pd.read_csv(url)\n",
    "#df_characters.head()"
   ]
  },
  {
   "cell_type": "code",
   "execution_count": 7,
   "metadata": {},
   "outputs": [],
   "source": [
    "df_characters = pd.read_csv('ZeldaBotW_nodes_w_attributes_enriched.txt')"
   ]
  },
  {
   "cell_type": "code",
   "execution_count": 11,
   "metadata": {},
   "outputs": [],
   "source": [
    "import urllib\n",
    "import json \n",
    "base_url = 'https://zelda.fandom.com/api.php?action=query&titles='\n",
    "end_url = '&prop=extracts&exlimit=1&explaintext=content&format=json'\n",
    "\n",
    "\n",
    "clean_name = []\n",
    "for name in df_characters.Name:\n",
    "    if name == \"Cherry\":\n",
    "        clean_name = \"Ancient Oven\"\n",
    "    else:\n",
    "        clean_name = name\n",
    "    clean_name = (clean_name.replace(\" \",\"_\"))\n",
    "    res_name = urllib.parse.quote_plus(clean_name)\n",
    "    response = urllib.request.urlopen(base_url + res_name + end_url)\n",
    "    response = response.read()\n",
    "    response = response.decode(\"utf-8\")\n",
    "    text = json.loads(response)\n",
    "    id = list(text['query']['pages'].keys())[0]\n",
    "    clean_text = text['query']['pages'][str(id)]['extract']\n",
    "    with open('characters_clean_text/' + name + '.txt', 'w', encoding=\"utf-8\") as file:\n",
    "        file.write(clean_text)\n",
    "    "
   ]
  },
  {
   "cell_type": "code",
   "execution_count": 12,
   "metadata": {},
   "outputs": [],
   "source": [
    "file_names = [name + \".txt\" for name in df_characters.Name]"
   ]
  },
  {
   "cell_type": "code",
   "execution_count": 13,
   "metadata": {},
   "outputs": [],
   "source": [
    "from nltk.corpus import PlaintextCorpusReader\n",
    "corpus_root = \"characters_clean_text/\"\n",
    "botw_corpus = PlaintextCorpusReader(corpus_root, file_names)"
   ]
  },
  {
   "cell_type": "code",
   "execution_count": 14,
   "metadata": {},
   "outputs": [],
   "source": [
    "botw_text = nltk.Text(botw_corpus.words())"
   ]
  },
  {
   "cell_type": "markdown",
   "metadata": {},
   "source": [
    "### 2.3 Exercises: NLPP Chapter 1 \n",
    "(the stuff that might be due in an upcoming assignment)\n",
    "\n",
    "The following exercises are from Chapter 1 but we are going to use them to study the ZeldaWiki Text."
   ]
  },
  {
   "cell_type": "markdown",
   "metadata": {},
   "source": [
    "> *Exercise 1*: Exploratory analysis\n",
    ">\n",
    "> * Try out the `concordance` method, using the ZeldaWiki text and a word of your own choosing.\n",
    "> * Also try out the `similar` and `common_contexts` methods, again with any word/s you like.\n",
    "> * Create the ZeldaWiki version of a dispersion plot:\n",
    ">    1. try with the words `['attack','help']`. What do you observe? (**hint:** we ordered characters as they appear in df_characters)\n",
    ">    2. find the top 6 races of allies by counting how many characters of each race there are in `df_characters`. Save the list of races and use it to create a new dispersion plot. What do you observe? (**hint:** look at how allies were originally ordered in the [Zelda Wiki](https://zelda.fandom.com/wiki/Characters_in_Breath_of_the_Wild))\n",
    ">    3. try your own version of the dispersion plot (use any set of words you like but remember to explain what you observe).\n",
    "> * What is a bigram? How does it relate to `collocations`. Explain in your own words.\n",
    ">    1. Compute the collocations on the ZeldaWiki Text.\n",
    "> * Review the discussion of conditionals in Sec. 4. Find all words in the ZeldaWiki Text starting with the letter *b*. Show the first 5 in alphabetical order.\n",
    "> * Use `.index()` to find the index of the word *Cherry*. You'll need to insert this word as an argument between the parentheses. By a process of trial and error, find the slice for the complete sentence that contains this word.\n",
    "> * Review the discussion of looping with conditions in Sec 4. Use a combination of `for` and `if` statements to loop over the words of the ZeldaWiki Text and print the 5 longest uppercase words, one per line."
   ]
  },
  {
   "cell_type": "code",
   "execution_count": 15,
   "metadata": {},
   "outputs": [
    {
     "name": "stdout",
     "output_type": "stream",
     "text": [
      "Displaying 25 of 4513 matches:\n",
      "se - tinted glasses \". He also tells Link that he only talks about Horses . Wh\n",
      "ic . Occasionally , Baddek will give Link tips for handling Horses , saying to\n",
      "od behavior . In addition , he tells Link that he can ' t expect a horse to ri\n",
      "y need to . After this , he ' ll ask Link to name another animal that swims , \n",
      "there aren ' t any . He also informs Link that Stables fit registered Horses w\n",
      "prisingly comfortable . Baddek tells Link that there are four different Stable\n",
      "d these are simply the Stables where Link can have a worker change the gear of\n",
      "s \". During this time , he ' ll give Link a quiz on Horses . He lists four dif\n",
      "orse , and the bone Horse — and asks Link which one doesn ' t exist . He says \n",
      "ealed someday , somewhere , and that Link may already know it . Occasionally ,\n",
      "anji speaks about Ludfo ' s Bog . If Link has not yet completed the trials on \n",
      " a sign from Hylia to stay away . If Link has completed the trials , she will \n",
      " be the doing of Hylia . Banji tells Link that she is thinking of taking the h\n",
      "en asked about the south , she tells Link about the Tamio River and Satori Mou\n",
      "ies about . For the west , she tells Link that beyond the Tabantha Great Bridg\n",
      "ompted about the north , Banji tells Link of Konba , a man north of the Stable\n",
      " Stable who loves to race . She asks Link to visit him , since he must be bore\n",
      "ut . Occasionally , Baumar will give Link a Shield Surfing tip . For example ,\n",
      "ity . Bayge and the others challenge Link to join them by sitting in a ring of\n",
      "is the last Goron to collapse before Link is declared the winner . The brother\n",
      "op the pinnacle , and refuses to let Link approach as the Shrine ' s platform \n",
      "ers . However , Bayge decides to let Link through if he can clear their traini\n",
      " , the Gut Check Challenge , wherein Link must climb the pinnacle while collec\n",
      "e Challenge , Bayge happily appoints Link as an honorary Goron Blood Brother a\n",
      "ions ' Ballad DLC Pack is active and Link is pursuing the \" EX Champion Daruk \n"
     ]
    }
   ],
   "source": [
    "# Try concordance\n",
    "botw_text.concordance(\"Link\")"
   ]
  },
  {
   "cell_type": "code",
   "execution_count": 16,
   "metadata": {},
   "outputs": [
    {
     "name": "stdout",
     "output_type": "stream",
     "text": [
      "time request link side name house help foot life ocarina guardian\n",
      "statue defeat power body secret mother triforce soul awakening\n"
     ]
    }
   ],
   "source": [
    "# Try similar\n",
    "botw_text.similar('love')"
   ]
  },
  {
   "cell_type": "code",
   "execution_count": 17,
   "metadata": {},
   "outputs": [
    {
     "name": "stdout",
     "output_type": "stream",
     "text": [
      "a_to that_s of_is their_s the_and\n"
     ]
    }
   ],
   "source": [
    "# Try common contexts\n",
    "botw_text.common_contexts(['Link','Horse'])"
   ]
  },
  {
   "cell_type": "code",
   "execution_count": 18,
   "metadata": {},
   "outputs": [
    {
     "data": {
      "image/png": "[encoded data removed]",
      "text/plain": [
       "<Figure size 432x288 with 1 Axes>"
      ]
     },
     "metadata": {
      "needs_background": "light"
     },
     "output_type": "display_data"
    }
   ],
   "source": [
    "# Make a dispersion plot\n",
    "botw_text.dispersion_plot([\"attack\", \"help\"])"
   ]
  },
  {
   "cell_type": "code",
   "execution_count": 19,
   "metadata": {},
   "outputs": [
    {
     "name": "stdout",
     "output_type": "stream",
     "text": [
      "('Rito', 27)\n",
      "('Zora', 30)\n",
      "('Goron', 36)\n",
      "('Gerudo', 76)\n",
      "('Sheikah', 138)\n",
      "('Hylian', 215)\n"
     ]
    }
   ],
   "source": [
    "# Find 6 most common Ally races\n",
    "counter = {race:0 for race in df_characters.Race.unique()}\n",
    "for index, row in df_characters.iterrows():\n",
    "    if row.Role == \"Ally\":\n",
    "        counter[row.Race] += 1\n",
    "counter_list = list(sorted(counter.items(), key=lambda item: item[1]))\n",
    "race_list = []\n",
    "for race in counter_list[-6:]:\n",
    "    print(race)\n",
    "    race_list.append(race[0])"
   ]
  },
  {
   "cell_type": "code",
   "execution_count": 20,
   "metadata": {},
   "outputs": [
    {
     "data": {
      "image/png": "[encoded data removed]",
      "text/plain": [
       "<Figure size 432x288 with 1 Axes>"
      ]
     },
     "metadata": {
      "needs_background": "light"
     },
     "output_type": "display_data"
    }
   ],
   "source": [
    "# Dispersion plot for  6 most common Ally races\n",
    "botw_text.dispersion_plot(race_list)"
   ]
  },
  {
   "cell_type": "code",
   "execution_count": 21,
   "metadata": {},
   "outputs": [
    {
     "name": "stdout",
     "output_type": "stream",
     "text": [
      "See Also; Divine Beast; Gerudo Town; Beast Vah; Ancient Shrine;\n",
      "Calamity Ganon; Side Quest; Link speaks; Princess Zelda; Hyrule\n",
      "Castle; Sheikah Slate; Zelda series; Wind Waker; years prior; 000\n",
      "years; Sheikah Monk; someone bearing; Old Man; may refer; tells Link\n"
     ]
    }
   ],
   "source": [
    "# Botw collacations\n",
    "botw_text.collocations()"
   ]
  },
  {
   "cell_type": "code",
   "execution_count": 22,
   "metadata": {},
   "outputs": [
    {
     "data": {
      "text/plain": [
       "['baby', 'back', 'backfires', 'backflips', 'background']"
      ]
     },
     "execution_count": 22,
     "metadata": {},
     "output_type": "execute_result"
    }
   ],
   "source": [
    "sorted(w for w in set(botw_text) if w.startswith('b'))[:5]"
   ]
  },
  {
   "cell_type": "code",
   "execution_count": 23,
   "metadata": {},
   "outputs": [
    {
     "name": "stdout",
     "output_type": "stream",
     "text": [
      "Index of Character named Cherry is :  49990\n"
     ]
    },
    {
     "data": {
      "text/plain": [
       "['.',\n",
       " 'Tenne',\n",
       " 'is',\n",
       " 'a',\n",
       " 'young',\n",
       " 'female',\n",
       " 'Hylian',\n",
       " 'stable',\n",
       " 'hand',\n",
       " 'who',\n",
       " 'can',\n",
       " 'be',\n",
       " 'found',\n",
       " 'tending',\n",
       " 'the',\n",
       " 'hay',\n",
       " 'troph',\n",
       " 'at']"
      ]
     },
     "execution_count": 23,
     "metadata": {},
     "output_type": "execute_result"
    }
   ],
   "source": [
    "# Get index of Cherry and try to find slices that provide the character bio\n",
    "print(\"Index of Character named Cherry is : \", botw_text.index(\"Cherry\"))\n",
    "botw_text[48159:48177]"
   ]
  },
  {
   "cell_type": "code",
   "execution_count": 24,
   "metadata": {},
   "outputs": [
    {
     "name": "stdout",
     "output_type": "stream",
     "text": [
      "CRAAAAACK\n",
      "BOOOOOM\n",
      "BZZBZZT\n",
      "BZZBZZ\n",
      "3000HP\n"
     ]
    }
   ],
   "source": [
    "upper_dict = {}\n",
    "for token in botw_text:\n",
    "    if token.isupper():\n",
    "        if(len(token))>2:\n",
    "            if token in upper_dict:\n",
    "                continue\n",
    "            else:\n",
    "                upper_dict[token] = len(token)\n",
    "                \n",
    "upper_list = list(sorted(upper_dict.items(),reverse=True, key=lambda item: item[1])[:5])\n",
    "for word,length in upper_list:\n",
    "    print(word)\n"
   ]
  },
  {
   "cell_type": "markdown",
   "metadata": {},
   "source": [
    "> *Exercise 2*: Basic stats\n",
    ">\n",
    "> * How many tokens are there in the ZeldaWiki Text? How many distinct tokens are there?\n",
    "> * Explain in your own words what aspect of language _lexical diversity_ describes. \n",
    ">     1. Compute the lexical diversity of the ZeldaWiki Text;\n",
    ">     2. Compute the lexical diversity related to allies and enemies (bosses inlcuded). Comment your results.\n",
    "> * Create frequency distributions for the ZeldaWiki Text, including the cumulative frequency plot for the 75 most common tokens. \n",
    "> * Find all the four-letter tokens in the ZeldaWiki Text. With the help of a frequency distribution (FreqDist), show these tokens in decreasing order of frequency.\n",
    "> * What does the following code do? `sum(len(w) for w in ZeldaWiki)` Can you use it to work out the average token length of the ZeldaWiki Text?\n",
    "> * Define a function:\n",
    ">     1. called `vocab_size(text)` that has a single parameter for the `text`, and which returns the vocabulary size of the text. Apply it to the ZeldaWiki Text;\n",
    ">     2. `percent(word, text)` that calculates how often a given `word` occurs in a `text`, and expresses the result as a percentage. Apply it to the ZeldaWiki Text to compute the percentage for *Link* (our beloved hero)"
   ]
  },
  {
   "cell_type": "code",
   "execution_count": 25,
   "metadata": {},
   "outputs": [
    {
     "data": {
      "text/plain": [
       "218435"
      ]
     },
     "execution_count": 25,
     "metadata": {},
     "output_type": "execute_result"
    }
   ],
   "source": [
    "# How many tokens \n",
    "len(botw_text)"
   ]
  },
  {
   "cell_type": "code",
   "execution_count": 26,
   "metadata": {},
   "outputs": [
    {
     "data": {
      "text/plain": [
       "10835"
      ]
     },
     "execution_count": 26,
     "metadata": {},
     "output_type": "execute_result"
    }
   ],
   "source": [
    "# How many distinct tokens\n",
    "len(set(botw_text))"
   ]
  },
  {
   "cell_type": "code",
   "execution_count": 27,
   "metadata": {},
   "outputs": [
    {
     "name": "stdout",
     "output_type": "stream",
     "text": [
      "Lexical Diversity of botw corpus =  0.04960285668505505\n"
     ]
    }
   ],
   "source": [
    "def lexical_diversity(text):\n",
    "    return len(set(text)) / len(text)\n",
    "\n",
    "print(\"Lexical Diversity of botw corpus = \",lexical_diversity(botw_text))"
   ]
  },
  {
   "cell_type": "code",
   "execution_count": 28,
   "metadata": {},
   "outputs": [
    {
     "name": "stdout",
     "output_type": "stream",
     "text": [
      "Lexical Diversity of Allies corpus =  0.053252135667766216\n",
      "Lexical Diversity of Enemies corpus =  0.0990508639571672\n"
     ]
    }
   ],
   "source": [
    "df_ally = df_characters[df_characters['Role'] == \"Ally\"]\n",
    "df_enemy = df_characters[df_characters['Role'] != \"Ally\"]\n",
    "\n",
    "ally_file_names = [name+\".txt\" for name in df_ally.Name]\n",
    "enemy_file_names = [name+\".txt\" for name in df_enemy.Name]\n",
    "\n",
    "ally_botw_corpus = PlaintextCorpusReader(corpus_root, ally_file_names)\n",
    "enemy_botw_corpus = PlaintextCorpusReader(corpus_root, enemy_file_names)\n",
    "\n",
    "ally_botw_text = nltk.Text(ally_botw_corpus.words())\n",
    "enemy_botw_text = nltk.Text(enemy_botw_corpus.words())\n",
    "\n",
    "print(\"Lexical Diversity of Allies corpus = \",lexical_diversity(ally_botw_text))\n",
    "print(\"Lexical Diversity of Enemies corpus = \", lexical_diversity(enemy_botw_text))"
   ]
  },
  {
   "cell_type": "code",
   "execution_count": 29,
   "metadata": {},
   "outputs": [
    {
     "data": {
      "image/png": "[encoded data removed]",
      "text/plain": [
       "<Figure size 432x288 with 1 Axes>"
      ]
     },
     "metadata": {
      "needs_background": "light"
     },
     "output_type": "display_data"
    },
    {
     "data": {
      "text/plain": [
       "<AxesSubplot:xlabel='Samples', ylabel='Cumulative Counts'>"
      ]
     },
     "execution_count": 29,
     "metadata": {},
     "output_type": "execute_result"
    }
   ],
   "source": [
    "freq_dist = FreqDist(botw_text)\n",
    "freq_dist.most_common(75)\n",
    "freq_dist.plot(75,cumulative=True)"
   ]
  },
  {
   "cell_type": "code",
   "execution_count": 30,
   "metadata": {},
   "outputs": [],
   "source": [
    "freq_dist_2 = FreqDist(w for w in botw_text if len(w)==4)"
   ]
  },
  {
   "cell_type": "code",
   "execution_count": 31,
   "metadata": {},
   "outputs": [
    {
     "data": {
      "image/png": "[encoded data removed]",
      "text/plain": [
       "<Figure size 432x288 with 1 Axes>"
      ]
     },
     "metadata": {
      "needs_background": "light"
     },
     "output_type": "display_data"
    },
    {
     "data": {
      "text/plain": [
       "<AxesSubplot:xlabel='Samples', ylabel='Counts'>"
      ]
     },
     "execution_count": 31,
     "metadata": {},
     "output_type": "execute_result"
    }
   ],
   "source": [
    "freq_dist_2.plot(10)"
   ]
  },
  {
   "cell_type": "markdown",
   "metadata": {},
   "source": [
    "What does the following code do? sum(len(w) for w in ZeldaWiki) Can you use it to work out the average token length of the ZeldaWiki Text?\n",
    "\n",
    "$\\textbf{Answer :}$\n",
    "\n",
    "The code above counts the number of characters in the entire wiki by counting the length of each word. \n",
    "We can divide the output of above with the number of words in the corpus and get an average token length"
   ]
  },
  {
   "cell_type": "code",
   "execution_count": 32,
   "metadata": {},
   "outputs": [
    {
     "name": "stdout",
     "output_type": "stream",
     "text": [
      "Vocabulary size of the ZeldaWiki text is :  218435\n"
     ]
    }
   ],
   "source": [
    "def vocab_size(text):\n",
    "    return len(text)\n",
    "\n",
    "print(\"Vocabulary size of the ZeldaWiki text is : \", vocab_size(botw_text))"
   ]
  },
  {
   "cell_type": "code",
   "execution_count": 33,
   "metadata": {},
   "outputs": [
    {
     "name": "stdout",
     "output_type": "stream",
     "text": [
      "The percentage of the word Link is :  2.0619406230686472\n"
     ]
    }
   ],
   "source": [
    "def percent(word,text):\n",
    "    return (text.count(word)/vocab_size(text)) * 100 \n",
    "\n",
    "print(\"The percentage of the word Link is : \", percent(\"Link\",botw_text))"
   ]
  },
  {
   "cell_type": "markdown",
   "metadata": {},
   "source": [
    "# Part 3: Working with NLTK and other types of text\n",
    "\n",
    "So far, we've worked with text from the Zelda Wiki. But that's not the only source of text in the universe. In fact, it's far from it . Chapter 2 in NLPP is all about getting access to nicely curated texts that you can find built into NLTK.\n",
    "> \n",
    "> Reading: NLPP Chapter 2, Sec. 1 - 4.\n",
    ">"
   ]
  },
  {
   "cell_type": "markdown",
   "metadata": {},
   "source": [
    "> *Exercises*: NLPP Chapter 2\\. (other stuff that might be due in an assignment)\n",
    "> \n",
    "> * Solve exercise 4, 8, 11, 15, 16, 17, 18 in NLPP, section 2.8\\. As always, I recommend you write up your solutions nicely in a `notebook`.\n",
    "> * Work through exercise 2.8.23 on Zipf's law. [Zipf's law](https://en.wikipedia.org/wiki/Zipf%27s_law) connects to a property of the Barabasi-Albert networks. Which one? Take a look at [this article](http://www.hpl.hp.com/research/idl/papers/ranking/adamicglottometrics.pdf) and write a paragraph or two describing other important instances of power-laws found on the internet.\n",
    ">"
   ]
  },
  {
   "cell_type": "markdown",
   "metadata": {},
   "source": [
    "### Exercise 4\n",
    "Read in the texts of the State of the Union addresses, using the state_union corpus reader. Count occurrences of men, women, and people in each document. What has happened to the usage of these words over time?"
   ]
  },
  {
   "cell_type": "code",
   "execution_count": 34,
   "metadata": {},
   "outputs": [],
   "source": [
    "# State of the Union Corpus\n",
    "from nltk.corpus import state_union"
   ]
  },
  {
   "cell_type": "code",
   "execution_count": 35,
   "metadata": {},
   "outputs": [
    {
     "name": "stdout",
     "output_type": "stream",
     "text": [
      "Count of word men:  228\n",
      "Count of word women:  141\n",
      "Count of word people:  1291\n"
     ]
    }
   ],
   "source": [
    "print(\"Count of word men: \", state_union.words().count(\"men\"))\n",
    "print(\"Count of word women: \", state_union.words().count(\"women\"))\n",
    "print(\"Count of word people: \", state_union.words().count(\"people\"))"
   ]
  },
  {
   "cell_type": "code",
   "execution_count": 36,
   "metadata": {},
   "outputs": [
    {
     "data": {
      "image/png": "[encoded data removed]",
      "text/plain": [
       "<Figure size 432x288 with 1 Axes>"
      ]
     },
     "metadata": {
      "needs_background": "light"
     },
     "output_type": "display_data"
    },
    {
     "data": {
      "text/plain": [
       "<AxesSubplot:xlabel='Samples', ylabel='Counts'>"
      ]
     },
     "execution_count": 36,
     "metadata": {},
     "output_type": "execute_result"
    }
   ],
   "source": [
    "cfd = nltk.ConditionalFreqDist(\n",
    "    (target, fileid[:4])\n",
    "    for fileid in state_union.fileids()\n",
    "    for w in state_union.words(fileid)\n",
    "    for target in ['men', 'women','people']\n",
    "    if w.lower() == target)\n",
    "cfd.plot()"
   ]
  },
  {
   "cell_type": "markdown",
   "metadata": {},
   "source": [
    "### Exercise 8 \n",
    "Define a conditional frequency distribution over the Names corpus that allows you to see which initial letters are more frequent for males vs. females"
   ]
  },
  {
   "cell_type": "code",
   "execution_count": 39,
   "metadata": {},
   "outputs": [
    {
     "data": {
      "image/png": "[encoded data removed]",
      "text/plain": [
       "<Figure size 432x288 with 1 Axes>"
      ]
     },
     "metadata": {
      "needs_background": "light"
     },
     "output_type": "display_data"
    },
    {
     "data": {
      "text/plain": [
       "<AxesSubplot:xlabel='Samples', ylabel='Counts'>"
      ]
     },
     "execution_count": 39,
     "metadata": {},
     "output_type": "execute_result"
    }
   ],
   "source": [
    "names = nltk.corpus.names\n",
    "cfd = nltk.ConditionalFreqDist(\n",
    "    (fileid, name[0])\n",
    "    for fileid in names.fileids()\n",
    "    for name in names.words(fileid))\n",
    "cfd.plot()"
   ]
  },
  {
   "cell_type": "markdown",
   "metadata": {},
   "source": [
    "### Exercise 11\n",
    "Investigate the table of modal distributions and look for other patterns. Try to explain them in terms of your own impressionistic understanding of the different genres. Can you find other closed classes of words that exhibit significant differences across different genres?"
   ]
  },
  {
   "cell_type": "code",
   "execution_count": 41,
   "metadata": {},
   "outputs": [
    {
     "name": "stdout",
     "output_type": "stream",
     "text": [
      "                   I  you   he  she   it   we they \n",
      "           news  179   55  451   42  363   77  205 \n",
      "       religion  155  100  137   10  264  176  115 \n",
      "        hobbies  154  383  155   21  476  100  177 \n",
      "science_fiction   98   81  139   36  129   30   53 \n",
      "        romance  951  456  702  496  573   78  168 \n",
      "          humor  239  131  146   58  162   32   70 \n",
      "      editorial  201   83  268   41  386  167  148 \n",
      " belles_lettres  845  188 1174  178 1059  398  488 \n",
      "     government   97   74  120    0  218  112   92 \n"
     ]
    }
   ],
   "source": [
    "from nltk.corpus import brown\n",
    "pronouns = ['I', 'you', 'he', 'she', 'it', 'we', 'they']\n",
    "cfd = nltk.ConditionalFreqDist(\n",
    "    (genre, word)\n",
    "    for genre in brown.categories()\n",
    "    for word in brown.words(categories=genre))\n",
    "genres = ['news', 'religion', 'hobbies', 'science_fiction', 'romance', 'humor', 'editorial', 'belles_lettres', 'government']\n",
    "cfd.tabulate(conditions=genres, samples=pronouns)\n",
    "\n"
   ]
  },
  {
   "cell_type": "code",
   "execution_count": 42,
   "metadata": {},
   "outputs": [
    {
     "name": "stdout",
     "output_type": "stream",
     "text": [
      "                 what  when   who   why where \n",
      "           news    76   128   268     9    58 \n",
      "       religion    64    53   100    14    20 \n",
      "        hobbies    78   119   103    10    72 \n",
      "science_fiction    27    21    13     4    10 \n",
      "        romance   121   126    89    34    54 \n",
      "          humor    36    52    48     9    15 \n",
      "      editorial    84   103   172    10    40 \n",
      " belles_lettres   244   252   452    36   107 \n",
      "     government    43    56    74     6    46 \n"
     ]
    }
   ],
   "source": [
    "wh = ['what', 'when', 'who', 'why', 'where']\n",
    "cfd.tabulate(conditions=genres, samples=wh)"
   ]
  },
  {
   "cell_type": "markdown",
   "metadata": {},
   "source": [
    "### Exercise 15\n",
    "Write a program to find all words that occur at least three times in the Brown Corpus."
   ]
  },
  {
   "cell_type": "code",
   "execution_count": 43,
   "metadata": {},
   "outputs": [
    {
     "name": "stdout",
     "output_type": "stream",
     "text": [
      "1161192\n",
      "22339\n"
     ]
    }
   ],
   "source": [
    "fd = nltk.FreqDist(brown.words())\n",
    "triple_words = [w for w in fd.keys() if fd[w] > 2]\n",
    "print(len(brown.words()))\n",
    "print(len(triple_words))"
   ]
  },
  {
   "cell_type": "markdown",
   "metadata": {},
   "source": [
    "### Exercise 16\n",
    "Write a program to generate a table of lexical diversity scores (i.e. token/type ratios), as we saw in 1.1. Include the full set of Brown Corpus genres (nltk.corpus.brown.categories()). Which genre has the lowest diversity (greatest number of tokens per type)? Is this what you would have expected?"
   ]
  },
  {
   "cell_type": "code",
   "execution_count": 44,
   "metadata": {},
   "outputs": [
    {
     "name": "stdout",
     "output_type": "stream",
     "text": [
      "adventure: 0.1279743878169075\n",
      "belles_lettres: 0.10642071451679992\n",
      "editorial: 0.16054152327770924\n",
      "fiction: 0.1358194136199042\n",
      "government: 0.11667641228232811\n",
      "hobbies: 0.14493897625842492\n",
      "humor: 0.23125144042406084\n",
      "learned: 0.09268890745953554\n",
      "lore: 0.13148804612915801\n",
      "mystery: 0.12212912592488936\n",
      "news: 0.14314696580941583\n",
      "religion: 0.1617553745018909\n",
      "reviews: 0.21192020440251572\n",
      "romance: 0.12070492131044529\n",
      "science_fiction: 0.22342778161713892\n"
     ]
    }
   ],
   "source": [
    "def lexical_diversity(text):\n",
    "    return  len(set(text)) / len(text)\n",
    "\n",
    "\n",
    "lexical_diversities = []    \n",
    "tokens = []\n",
    "types = []\n",
    "genres = nltk.corpus.brown.categories()\n",
    "\n",
    "for genre in genres:\n",
    "    lexical_diversities.append(lexical_diversity(brown.words(categories=genre)))\n",
    "    print(genre + ': ' + str(lexical_diversity(brown.words(categories=genre))))\n",
    "    \n"
   ]
  },
  {
   "cell_type": "code",
   "execution_count": 45,
   "metadata": {},
   "outputs": [
    {
     "name": "stdout",
     "output_type": "stream",
     "text": [
      "adventure\n",
      "belles_lettres\n",
      "editorial\n",
      "fiction\n",
      "government\n",
      "hobbies\n",
      "humor\n",
      "learned\n",
      "lore\n",
      "mystery\n",
      "news\n",
      "religion\n",
      "reviews\n",
      "romance\n",
      "science_fiction\n"
     ]
    }
   ],
   "source": [
    "for text in brown.categories():\n",
    "    print(text)"
   ]
  },
  {
   "cell_type": "markdown",
   "metadata": {},
   "source": [
    "### Exercise 17\n",
    "Write a function that finds the 50 most frequently occurring words of a text that are not stopwords."
   ]
  },
  {
   "cell_type": "code",
   "execution_count": 46,
   "metadata": {},
   "outputs": [
    {
     "name": "stdout",
     "output_type": "stream",
     "text": [
      "['one', 'would', 'said', 'new', 'could', 'time', 'two', 'may', 'first', 'like', 'man', 'even', 'made', 'also', 'many', 'must', 'af', 'back', 'years', 'much', 'way', 'well', 'people', 'mr.', 'little', 'state', 'good', 'make', 'world', 'still', 'see', 'men', 'work', 'long', 'get', 'life', 'never', 'day', 'another', 'know', 'last', 'us', 'might', 'great', 'old', 'year', 'come', 'since', 'go', 'came']\n"
     ]
    }
   ],
   "source": [
    "def most_frequent_content_words(text):\n",
    "    stopwords = nltk.corpus.stopwords.words('english')\n",
    "    content_words = [w.lower() for w in text if w.lower() not in stopwords and any(c.isalpha() for c in w)]\n",
    "    fd = nltk.FreqDist(content_words)\n",
    "    return [w for w, num in fd.most_common(50)]\n",
    "\n",
    "print(most_frequent_content_words(brown.words()))"
   ]
  },
  {
   "cell_type": "markdown",
   "metadata": {},
   "source": [
    "### Exercise 18\n",
    "Write a program to print the 50 most frequent bigrams (pairs of adjacent words) of a text, omitting bigrams that contain stopwords."
   ]
  },
  {
   "cell_type": "code",
   "execution_count": 47,
   "metadata": {},
   "outputs": [
    {
     "name": "stdout",
     "output_type": "stream",
     "text": [
      "[('United', 'States'), ('New', 'York'), ('per', 'cent'), ('years', 'ago'), ('I', 'could'), ('I', 'think'), ('I', 'said'), ('I', 'would'), ('I', 'know'), ('The', 'first'), ('He', 'said'), ('Rhode', 'Island'), ('Of', 'course'), ('could', 'see'), ('In', 'addition'), ('I', 'thought'), ('last', 'year'), ('first', 'time'), ('It', 'would'), ('White', 'House'), ('For', 'example'), ('even', 'though'), ('I', 'saw'), ('I', 'knew'), ('World', 'War'), ('He', 'could'), ('two', 'years'), ('fiscal', 'year'), ('U.', 'S.'), ('In', 'fact'), ('But', 'I'), ('last', 'night'), ('I', 'want'), ('high', 'school'), ('Peace', 'Corps'), ('I', 'told'), ('old', 'man'), ('He', 'would'), ('I', 'believe'), ('United', 'Nations'), ('New', 'England'), ('No', 'one'), ('The', 'man'), ('young', 'man'), ('Los', 'Angeles'), ('one', 'thing'), ('I', 'felt'), ('I', 'asked'), ('I', \"can't\"), ('I', 'went')]\n"
     ]
    }
   ],
   "source": [
    "def most_frequent_bigrams(text):\n",
    "    stopwords = nltk.corpus.stopwords.words('english')\n",
    "    bigrams = [b for b in nltk.bigrams(text) if b[0] not in stopwords and b[1] not in stopwords and any(c.isalpha() for c in b[0]) and any(c.isalpha() for c in b[1])]\n",
    "    fd = nltk.FreqDist(bigrams)\n",
    "    return [b for b, num in fd.most_common(50)]\n",
    "\n",
    "print(most_frequent_bigrams(brown.words()))"
   ]
  },
  {
   "cell_type": "code",
   "execution_count": null,
   "metadata": {},
   "outputs": [],
   "source": []
  }
 ],
 "metadata": {
  "kernelspec": {
   "display_name": "Python 3",
   "language": "python",
   "name": "python3"
  },
  "language_info": {
   "codemirror_mode": {
    "name": "ipython",
    "version": 3
   },
   "file_extension": ".py",
   "mimetype": "text/x-python",
   "name": "python",
   "nbconvert_exporter": "python",
   "pygments_lexer": "ipython3",
   "version": "3.8.3"
  }
 },
 "nbformat": 4,
 "nbformat_minor": 5
}
